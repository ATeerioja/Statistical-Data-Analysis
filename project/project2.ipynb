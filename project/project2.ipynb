{
 "cells": [
  {
   "cell_type": "code",
   "execution_count": 96,
   "id": "fa55efe9",
   "metadata": {},
   "outputs": [],
   "source": [
    "import pandas as pd\n",
    "import numpy as np\n",
    "import matplotlib.pyplot as plt\n",
    "from pandas.api.types import CategoricalDtype\n"
   ]
  },
  {
   "cell_type": "code",
   "execution_count": 97,
   "id": "9a366825",
   "metadata": {},
   "outputs": [
    {
     "name": "stdout",
     "output_type": "stream",
     "text": [
      "kohde         category\n",
      "jasen         category\n",
      "pvknro        category\n",
      "sp            category\n",
      "ASALUE        category\n",
      "IKAL1         category\n",
      "working        float64\n",
      "sleeping       float64\n",
      "reading        float64\n",
      "restaurant     float64\n",
      "library       category\n",
      "dtype: object\n",
      "kohde          0\n",
      "jasen          0\n",
      "pvknro         0\n",
      "sp             0\n",
      "ASALUE         0\n",
      "IKAL1          0\n",
      "working       85\n",
      "sleeping      88\n",
      "reading       94\n",
      "restaurant    91\n",
      "library       62\n",
      "dtype: int64\n",
      "(745, 11)\n",
      "(584, 11)\n"
     ]
    }
   ],
   "source": [
    "#Processing the dataframe and dropping NaN rows\n",
    "def age_category(age):\n",
    "  if age < 10:\n",
    "    return 0\n",
    "  elif age > 9 and age < 16:\n",
    "    return 1\n",
    "  elif age < 20:\n",
    "    return 2\n",
    "  elif age < 25:\n",
    "    return 3\n",
    "  elif age < 35:\n",
    "    return 4\n",
    "  elif age < 45:\n",
    "    return 5\n",
    "  elif age < 55:\n",
    "    return 6\n",
    "  elif age < 65:\n",
    "    return 7\n",
    "  elif age < 75:\n",
    "    return 8\n",
    "  elif age > 74:\n",
    "    return 9\n",
    "\n",
    "age_type = CategoricalDtype(categories=[0,1,2,3,4,5,6,7,8,9], ordered=True)\n",
    "d = pd.read_csv(\"habits.data\", sep=\";\", na_values=\"?\")\n",
    "\n",
    "d.kohde = d.kohde.astype('category')\n",
    "d.jasen = d.jasen.astype('category')\n",
    "d.pvknro = d.pvknro.map({1:'weekday', 2:'weekend'})\n",
    "d.pvknro = d.pvknro.astype('category')\n",
    "d.sp = d.sp.map({1:'man', 2:'woman'})\n",
    "d.sp = d.sp.astype('category')\n",
    "d.ASALUE = d.ASALUE.map({1:'city', 2:'municipality', 3:'rural'})\n",
    "d.ASALUE = d.ASALUE.astype('category')\n",
    "d.IKAL1 = d.IKAL1.apply(age_category)\n",
    "d.IKAL1 = d.IKAL1.astype(age_type)\n",
    "d.A1 = pd.to_numeric(d['A1'], errors='coerce')\n",
    "d.A2 = pd.to_numeric(d['A2'], errors='coerce')\n",
    "d.A3 = pd.to_numeric(d['A3'], errors='coerce')\n",
    "d.A4 = pd.to_numeric(d['A4'], errors='coerce')\n",
    "d.A5 = d.A5.map({1:'yes', 2:'no'})\n",
    "d.A5 = d.A5.astype('category')\n",
    "d.rename(columns={'A1': 'working', 'A2': 'sleeping', 'A3': 'reading', 'A4': 'restaurant', 'A5': 'library'}, inplace=True)\n",
    "print(d.dtypes)\n",
    "\n",
    "print(d.isnull().sum())\n",
    "print(d.shape)\n",
    "\n",
    "d = d.dropna()\n",
    "print(d.shape)"
   ]
  },
  {
   "cell_type": "code",
   "execution_count": 98,
   "id": "f6963eb5",
   "metadata": {},
   "outputs": [
    {
     "name": "stdout",
     "output_type": "stream",
     "text": [
      "\n",
      "pvknro:\n",
      " pvknro\n",
      "weekday    0.51\n",
      "weekend    0.49\n",
      "Name: proportion, dtype: float64\n",
      "\n",
      "sp:\n",
      " sp\n",
      "woman    0.53\n",
      "man      0.47\n",
      "Name: proportion, dtype: float64\n",
      "\n",
      "ASALUE:\n",
      " ASALUE\n",
      "city            0.62\n",
      "rural           0.21\n",
      "municipality    0.17\n",
      "Name: proportion, dtype: float64\n",
      "\n",
      "IKAL1:\n",
      " IKAL1\n",
      "7    0.26\n",
      "6    0.23\n",
      "5    0.16\n",
      "4    0.14\n",
      "8    0.11\n",
      "9    0.07\n",
      "3    0.03\n",
      "0    0.00\n",
      "1    0.00\n",
      "2    0.00\n",
      "Name: proportion, dtype: float64\n",
      "\n",
      "library:\n",
      " library\n",
      "yes    0.7\n",
      "no     0.3\n",
      "Name: proportion, dtype: float64\n",
      "       working  sleeping  reading  restaurant\n",
      "count   584.00    584.00   584.00      584.00\n",
      "mean    121.52    518.42    47.48       47.95\n",
      "std     207.21     98.76    63.43       58.48\n",
      "min       0.00     70.00     0.00        0.00\n",
      "25%       0.00    460.00     0.00        0.00\n",
      "50%       0.00    510.00    30.00        0.00\n",
      "75%     212.50    580.00    70.50      100.00\n",
      "max     760.00    900.00   474.00      240.00\n",
      "working         0.0\n",
      "sleeping      510.0\n",
      "reading        30.0\n",
      "restaurant      0.0\n",
      "dtype: float64\n"
     ]
    }
   ],
   "source": [
    "#Characterizing the individuals and activities\n",
    "for col in ['pvknro', 'sp', 'ASALUE', \"IKAL1\", 'library']:\n",
    "  print(f\"\\n{col}:\\n\", d[col].value_counts(normalize=True).round(2))\n",
    "\n",
    "print(d[['working', 'sleeping', 'reading', 'restaurant']].describe().round(2))\n",
    "print(d[['working', 'sleeping', 'reading', 'restaurant']].median().round(2))"
   ]
  },
  {
   "cell_type": "markdown",
   "id": "7857bd5b",
   "metadata": {},
   "source": [
    "based on these descriptive statistics the number of samples from weekdays and weekends are almost equal 51% weekday, 49% weekend. \n",
    "This is also true for the genders which are almost equally divided 53% women, 47% men.\n",
    "\n",
    "Most of the people live in a city 62%, while the rest live in rural 21% and in municipalities 17%\n",
    "Most people 49% fall into the age ranges of 7(55-64 Years) 26% and 6(45-54 Years) 23%. There are no people in the age ranges of 0 (<10 Years), 1(10-14 Years) and 2(15-19 Years)\n",
    "Most people have visited the library within the past year 70%\n",
    "\n",
    "The average time for the following activities of working, sleeping, reading and dining out are: 121.5 min, 518.4 min, 47.5 min, 47.9 min\n",
    "The median time for the following activities of working, sleeping, reading and dining out are: 0 min, 510 min, 30 min, 0 min\n",
    "\n",
    "The standard deviations of the activities are all large >58, which indicates that there are several quite different characters present in the data."
   ]
  },
  {
   "cell_type": "code",
   "execution_count": 99,
   "id": "7a93dc33",
   "metadata": {},
   "outputs": [
    {
     "data": {
      "image/png": "[encoded data removed]",
      "text/plain": [
       "<Figure size 640x480 with 1 Axes>"
      ]
     },
     "metadata": {},
     "output_type": "display_data"
    }
   ],
   "source": [
    "d.boxplot(column='working', by='IKAL1')\n",
    "plt.show()"
   ]
  },
  {
   "cell_type": "markdown",
   "id": "821ab501",
   "metadata": {},
   "source": [
    "When using a boxplot that show the time of minutes spent working by the age group, it seems that there is a sharp drop in the number of minutes worked\n",
    "between the groups 6 and 7. This indicates that the data is split into working people 46% and retired people 54%."
   ]
  },
  {
   "cell_type": "code",
   "execution_count": 133,
   "id": "78d34d45",
   "metadata": {},
   "outputs": [],
   "source": [
    "#Estimating how much time on average do Finnish household spend daily on each activity\n",
    "kohde_df = d.groupby(by=['kohde'], observed=False)\n",
    "kohde_df = kohde_df.describe().describe()\n"
   ]
  },
  {
   "cell_type": "code",
   "execution_count": 144,
   "id": "b2842e44",
   "metadata": {},
   "outputs": [
    {
     "name": "stdout",
     "output_type": "stream",
     "text": [
      "working mean: 122.43\n",
      "sleeping mean: 519.12\n",
      "reading mean: 47.81\n",
      "restaurant mean: 48.85\n"
     ]
    }
   ],
   "source": [
    "print(f\"working mean: {kohde_df['working']['mean']['mean'].round(2)}\")\n",
    "print(f\"sleeping mean: {kohde_df['sleeping']['mean']['mean'].round(2)}\")\n",
    "print(f\"reading mean: {kohde_df['reading']['mean']['mean'].round(2)}\")\n",
    "print(f\"restaurant mean: {kohde_df['restaurant']['mean']['mean'].round(2)}\")"
   ]
  },
  {
   "cell_type": "markdown",
   "id": "39c9655f",
   "metadata": {},
   "source": [
    "The average ammount that a finnish household does the following activities of working, sleeping, reading and eating at a restaurant are: 122 min, 519 min, 48 min and 49 min\n",
    "\n",
    "These averages don't give a robust understanding of all finnish households, because in some households there are no working people and is some households, people work. This means that the average situation is low for working people and high for retired people. This is because the data is not grouped by age by default."
   ]
  },
  {
   "cell_type": "code",
   "execution_count": null,
   "id": "54026fe8",
   "metadata": {},
   "outputs": [],
   "source": [
    "#With respect to which activities do living environments or days of weeks differ in Finland?\n"
   ]
  }
 ],
 "metadata": {
  "kernelspec": {
   "display_name": "Python 3",
   "language": "python",
   "name": "python3"
  },
  "language_info": {
   "codemirror_mode": {
    "name": "ipython",
    "version": 3
   },
   "file_extension": ".py",
   "mimetype": "text/x-python",
   "name": "python",
   "nbconvert_exporter": "python",
   "pygments_lexer": "ipython3",
   "version": "3.12.3"
  }
 },
 "nbformat": 4,
 "nbformat_minor": 5
}
