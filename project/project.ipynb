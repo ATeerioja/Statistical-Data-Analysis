{
 "cells": [
  {
   "cell_type": "code",
   "execution_count": null,
   "id": "b6ad94c9",
   "metadata": {},
   "outputs": [],
   "source": [
    "import pandas as pd\n",
    "import numpy as np"
   ]
  },
  {
   "cell_type": "code",
   "execution_count": 27,
   "id": "cd52a938",
   "metadata": {},
   "outputs": [
    {
     "name": "stdout",
     "output_type": "stream",
     "text": [
      "     kohde  jasen  pvknro  sp  ASALUE  IKAL1   A1   A2   A3   A4   A5\n",
      "0    50002      1       1   1     1.0     49    0  560    0   80  1.0\n",
      "1    50002      1       2   1     1.0     49  380  450   10    0  1.0\n",
      "2    50003      1       1   2     2.0     41    0  470   30  100  1.0\n",
      "3    50003      1       2   2     2.0     41    0  550    0    0  1.0\n",
      "4    50004      2       1   1     1.0     62  640  410    0    0  1.0\n",
      "..     ...    ...     ...  ..     ...    ...  ...  ...  ...  ...  ...\n",
      "740  51980      1       2   2     2.0     50  460  450   31    0  2.0\n",
      "741  51981      2       1   1     1.0     35    0  470    0  140  NaN\n",
      "742  51981      2       2   1     1.0     35    0  730  NaN    0  NaN\n",
      "743  51983      1       1   2     3.0     66  560  375   20    0  1.0\n",
      "744  51983      1       2   2     3.0     66    0  435   31    0  1.0\n",
      "\n",
      "[745 rows x 11 columns]\n"
     ]
    }
   ],
   "source": [
    "data = pd.read_csv(\"habits.data\", sep=\";\", na_values=\"?\")\n",
    "print(data)"
   ]
  },
  {
   "cell_type": "code",
   "execution_count": 32,
   "id": "58d48e1d",
   "metadata": {},
   "outputs": [
    {
     "name": "stdout",
     "output_type": "stream",
     "text": [
      "kohde     category\n",
      "jasen     category\n",
      "pvknro        bool\n",
      "sp            bool\n",
      "ASALUE    category\n",
      "IKAL1     category\n",
      "A1         float64\n",
      "A2         float64\n",
      "A3         float64\n",
      "A4         float64\n",
      "A5         float64\n",
      "dtype: object\n"
     ]
    }
   ],
   "source": [
    "#Set labels for the data types\n",
    "data['kohde'] = data['kohde'].astype('category')\n",
    "data['jasen'] = data['jasen'].astype('category')\n",
    "data['pvknro'] = data['pvknro'].astype(bool)\n",
    "data['sp'] = data['sp'].astype(bool)\n",
    "data['ASALUE'] = data['ASALUE'].astype('category')\n",
    "bins = pd.IntervalIndex.from_tuples([(10, 15), (15, 20), (20, 25), (25, 35), (35, 45), (45, 55), (55, 65), (65, 75), (75, 120)])\n",
    "pd.cut(data['IKAL1'], bins)\n",
    "data['IKAL1'] = data['IKAL1'].astype('category')\n",
    "data['A1'] = pd.to_numeric(data['A1'], errors='coerce')\n",
    "data['A2'] = pd.to_numeric(data['A2'], errors='coerce')\n",
    "data['A3'] = pd.to_numeric(data['A3'], errors='coerce')\n",
    "data['A4'] = pd.to_numeric(data['A4'], errors='coerce')\n",
    "data['A5'] = pd.to_numeric(data['A5'], errors='coerce')\n",
    "\n",
    "print(data.dtypes)"
   ]
  },
  {
   "cell_type": "code",
   "execution_count": null,
   "id": "eca4a847",
   "metadata": {},
   "outputs": [
    {
     "name": "stdout",
     "output_type": "stream",
     "text": [
      "     kohde jasen  pvknro    sp ASALUE IKAL1     A1     A2    A3     A4   A5\n",
      "0    50002     1    True  True    1.0    49    0.0  560.0   0.0   80.0  1.0\n",
      "1    50002     1    True  True    1.0    49  380.0  450.0  10.0    0.0  1.0\n",
      "2    50003     1    True  True    2.0    41    0.0  470.0  30.0  100.0  1.0\n",
      "3    50003     1    True  True    2.0    41    0.0  550.0   0.0    0.0  1.0\n",
      "4    50004     2    True  True    1.0    62  640.0  410.0   0.0    0.0  1.0\n",
      "..     ...   ...     ...   ...    ...   ...    ...    ...   ...    ...  ...\n",
      "740  51980     1    True  True    2.0    50  460.0  450.0  31.0    0.0  2.0\n",
      "741  51981     2    True  True    1.0    35    0.0  470.0   0.0  140.0  NaN\n",
      "742  51981     2    True  True    1.0    35    0.0  730.0   NaN    0.0  NaN\n",
      "743  51983     1    True  True    3.0    66  560.0  375.0  20.0    0.0  1.0\n",
      "744  51983     1    True  True    3.0    66    0.0  435.0  31.0    0.0  1.0\n",
      "\n",
      "[745 rows x 11 columns]\n",
      "kohde      0\n",
      "jasen      0\n",
      "pvknro     0\n",
      "sp         0\n",
      "ASALUE     0\n",
      "IKAL1      0\n",
      "A1        85\n",
      "A2        88\n",
      "A3        94\n",
      "A4        91\n",
      "A5        42\n",
      "dtype: int64\n",
      "     kohde jasen  pvknro    sp ASALUE IKAL1     A1     A2    A3     A4   A5\n",
      "0    50002     1    True  True    1.0    49    0.0  560.0   0.0   80.0  1.0\n",
      "1    50002     1    True  True    1.0    49  380.0  450.0  10.0    0.0  1.0\n",
      "2    50003     1    True  True    2.0    41    0.0  470.0  30.0  100.0  1.0\n",
      "3    50003     1    True  True    2.0    41    0.0  550.0   0.0    0.0  1.0\n",
      "4    50004     2    True  True    1.0    62  640.0  410.0   0.0    0.0  1.0\n",
      "..     ...   ...     ...   ...    ...   ...    ...    ...   ...    ...  ...\n",
      "738  51973     1    True  True    2.0    41    0.0  620.0   0.0  108.0  1.0\n",
      "739  51980     1    True  True    2.0    50    0.0  570.0   0.0    0.0  2.0\n",
      "740  51980     1    True  True    2.0    50  460.0  450.0  31.0    0.0  2.0\n",
      "743  51983     1    True  True    3.0    66  560.0  375.0  20.0    0.0  1.0\n",
      "744  51983     1    True  True    3.0    66    0.0  435.0  31.0    0.0  1.0\n",
      "\n",
      "[602 rows x 11 columns]\n"
     ]
    }
   ],
   "source": [
    "print(data.isnull().sum())\n",
    "dataNoNan = data.dropna()"
   ]
  },
  {
   "cell_type": "code",
   "execution_count": null,
   "id": "11b2ed96",
   "metadata": {},
   "outputs": [],
   "source": []
  }
 ],
 "metadata": {
  "kernelspec": {
   "display_name": "Python 3",
   "language": "python",
   "name": "python3"
  },
  "language_info": {
   "codemirror_mode": {
    "name": "ipython",
    "version": 3
   },
   "file_extension": ".py",
   "mimetype": "text/x-python",
   "name": "python",
   "nbconvert_exporter": "python",
   "pygments_lexer": "ipython3",
   "version": "3.12.3"
  }
 },
 "nbformat": 4,
 "nbformat_minor": 5
}
