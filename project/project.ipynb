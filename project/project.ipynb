{
 "cells": [
  {
   "cell_type": "code",
   "execution_count": 174,
   "id": "b6ad94c9",
   "metadata": {},
   "outputs": [],
   "source": [
    "import pandas as pd\n",
    "import numpy as np\n",
    "from scipy.stats import kruskal\n",
    "from scipy.stats import shapiro\n",
    "from statsmodels.stats.multitest import multipletests"
   ]
  },
  {
   "cell_type": "code",
   "execution_count": null,
   "id": "cd52a938",
   "metadata": {},
   "outputs": [
    {
     "data": {
      "text/plain": [
       "0      1.0\n",
       "1      1.0\n",
       "2      2.0\n",
       "3      2.0\n",
       "4      1.0\n",
       "      ... \n",
       "740    2.0\n",
       "741    1.0\n",
       "742    1.0\n",
       "743    2.0\n",
       "744    2.0\n",
       "Name: sp, Length: 745, dtype: float64"
      ]
     },
     "execution_count": 175,
     "metadata": {},
     "output_type": "execute_result"
    }
   ],
   "source": [
    "def age_category(age):\n",
    "  if age < 10:\n",
    "    return 0\n",
    "  elif age > 9 and age < 16:\n",
    "    return 1\n",
    "  elif age < 20:\n",
    "    return 2\n",
    "  elif age < 25:\n",
    "    return 3\n",
    "  elif age < 35:\n",
    "    return 4\n",
    "  elif age < 45:\n",
    "    return 5\n",
    "  elif age < 55:\n",
    "    return 6\n",
    "  elif age < 65:\n",
    "    return 7\n",
    "  elif age < 75:\n",
    "    return 8\n",
    "  elif age > 74:\n",
    "    return 9\n",
    "\n",
    "data = pd.read_csv(\"habits.data\", sep=\";\", na_values=\"?\")\n",
    "\n",
    "\n",
    "\n",
    "\n",
    "data['kohde'] = data['kohde'].astype('category')\n",
    "data['jasen'] = data['jasen'].astype('category')\n",
    "data['pvknro'] = data['pvknro'].astype('category')\n",
    "data['sp'] = data['sp'].astype('category')\n",
    "data['ASALUE'] = data['ASALUE'].astype('category')\n",
    "data['IKAL1'] = data['IKAL1'].apply(age_category)\n",
    "data['IKAL1'] = data['IKAL1'].astype('category')\n",
    "data['A1'] = pd.to_numeric(data['A1'], errors='coerce')\n",
    "data['A2'] = pd.to_numeric(data['A2'], errors='coerce')\n",
    "data['A3'] = pd.to_numeric(data['A3'], errors='coerce')\n",
    "data['A4'] = pd.to_numeric(data['A4'], errors='coerce')\n",
    "data['A5'] = data['A5'].astype('category')\n",
    "\n",
    "print(data.dtypes)\n",
    "print(data)"
   ]
  },
  {
   "cell_type": "code",
   "execution_count": 176,
   "id": "58d48e1d",
   "metadata": {},
   "outputs": [
    {
     "name": "stdout",
     "output_type": "stream",
     "text": [
      "kohde     category\n",
      "jasen     category\n",
      "pvknro    category\n",
      "sp        category\n",
      "ASALUE    category\n",
      "IKAL1     category\n",
      "A1         float64\n",
      "A2         float64\n",
      "A3         float64\n",
      "A4         float64\n",
      "A5        category\n",
      "dtype: object\n",
      "     kohde jasen pvknro sp ASALUE IKAL1     A1     A2    A3     A4   A5\n",
      "0    50002     1      1  1    1.0     6    0.0  560.0   0.0   80.0  1.0\n",
      "1    50002     1      2  1    1.0     6  380.0  450.0  10.0    0.0  1.0\n",
      "2    50003     1      1  2    2.0     5    0.0  470.0  30.0  100.0  1.0\n",
      "3    50003     1      2  2    2.0     5    0.0  550.0   0.0    0.0  1.0\n",
      "4    50004     2      1  1    1.0     7  640.0  410.0   0.0    0.0  1.0\n",
      "..     ...   ...    ... ..    ...   ...    ...    ...   ...    ...  ...\n",
      "740  51980     1      2  2    2.0     6  460.0  450.0  31.0    0.0  2.0\n",
      "741  51981     2      1  1    1.0     5    0.0  470.0   0.0  140.0  NaN\n",
      "742  51981     2      2  1    1.0     5    0.0  730.0   NaN    0.0  NaN\n",
      "743  51983     1      1  2    3.0     8  560.0  375.0  20.0    0.0  1.0\n",
      "744  51983     1      2  2    3.0     8    0.0  435.0  31.0    0.0  1.0\n",
      "\n",
      "[745 rows x 11 columns]\n"
     ]
    }
   ],
   "source": [
    "#Set labels for the data types\n",
    "def age_category(age):\n",
    "  if age > 9 and age < 16:\n",
    "    return 1\n",
    "  elif age < 20:\n",
    "    return 2\n",
    "  elif age < 25:\n",
    "    return 3\n",
    "  elif age < 35:\n",
    "    return 4\n",
    "  elif age < 45:\n",
    "    return 5\n",
    "  elif age < 55:\n",
    "    return 6\n",
    "  elif age < 65:\n",
    "    return 7\n",
    "  elif age < 75:\n",
    "    return 8\n",
    "  elif age > 74:\n",
    "    return 9\n",
    "\n",
    "data['kohde'] = data['kohde'].astype('category')\n",
    "data['jasen'] = data['jasen'].astype('category')\n",
    "data['pvknro'] = data['pvknro'].astype('category')\n",
    "data['sp'] = data['sp'].astype('category')\n",
    "data['ASALUE'] = data['ASALUE'].astype('category')\n",
    "data['IKAL1'] = data['IKAL1'].apply(age_category)\n",
    "data['IKAL1'] = data['IKAL1'].astype('category')\n",
    "data['A1'] = pd.to_numeric(data['A1'], errors='coerce')\n",
    "data['A2'] = pd.to_numeric(data['A2'], errors='coerce')\n",
    "data['A3'] = pd.to_numeric(data['A3'], errors='coerce')\n",
    "data['A4'] = pd.to_numeric(data['A4'], errors='coerce')\n",
    "data['A5'] = data['A5'].astype('category')\n",
    "\n",
    "print(data.dtypes)\n",
    "print(data)"
   ]
  },
  {
   "cell_type": "code",
   "execution_count": 177,
   "id": "eca4a847",
   "metadata": {},
   "outputs": [
    {
     "name": "stdout",
     "output_type": "stream",
     "text": [
      "kohde      0\n",
      "jasen      0\n",
      "pvknro     0\n",
      "sp         0\n",
      "ASALUE     0\n",
      "IKAL1      0\n",
      "A1        85\n",
      "A2        88\n",
      "A3        94\n",
      "A4        91\n",
      "A5        42\n",
      "dtype: int64\n"
     ]
    }
   ],
   "source": [
    "print(data.isnull().sum())\n",
    "df = data.dropna()\n",
    "df.loc[df['A5'] == 420, 'A5'] = 1.0\n",
    "\n"
   ]
  },
  {
   "cell_type": "code",
   "execution_count": 178,
   "id": "11b2ed96",
   "metadata": {},
   "outputs": [],
   "source": [
    "#Identification of the characters present in the data\n",
    "#First set of simple groups are sp, asalue, pvknro ja ikal1\n",
    "def shapiro_test(x):\n",
    "    stat, p = shapiro(x)\n",
    "    return pd.Series({\n",
    "        'Shapiro_Statistic': stat,\n",
    "        'Shapiro_p': p,\n",
    "        'Normal?': 'Yes' if p > 0.05 else 'No'\n",
    "    })"
   ]
  },
  {
   "cell_type": "code",
   "execution_count": 179,
   "id": "1423309e",
   "metadata": {},
   "outputs": [
    {
     "name": "stdout",
     "output_type": "stream",
     "text": [
      "sp                   \n",
      "1   Shapiro_Statistic    0.618192\n",
      "    Shapiro_p                 0.0\n",
      "    Normal?                    No\n",
      "2   Shapiro_Statistic    0.634786\n",
      "    Shapiro_p                 0.0\n",
      "    Normal?                    No\n",
      "Name: A1, dtype: object\n",
      "sp                   \n",
      "1   Shapiro_Statistic    0.973686\n",
      "    Shapiro_p             0.00004\n",
      "    Normal?                    No\n",
      "2   Shapiro_Statistic    0.988714\n",
      "    Shapiro_p            0.015153\n",
      "    Normal?                    No\n",
      "Name: A2, dtype: object\n",
      "sp                   \n",
      "1   Shapiro_Statistic    0.702049\n",
      "    Shapiro_p                 0.0\n",
      "    Normal?                    No\n",
      "2   Shapiro_Statistic    0.826272\n",
      "    Shapiro_p                 0.0\n",
      "    Normal?                    No\n",
      "Name: A3, dtype: object\n",
      "sp                   \n",
      "1   Shapiro_Statistic    0.730908\n",
      "    Shapiro_p                 0.0\n",
      "    Normal?                    No\n",
      "2   Shapiro_Statistic    0.774996\n",
      "    Shapiro_p                 0.0\n",
      "    Normal?                    No\n",
      "Name: A4, dtype: object\n",
      "sp                   \n",
      "1   Shapiro_Statistic    0.080704\n",
      "    Shapiro_p                 0.0\n",
      "    Normal?                    No\n",
      "2   Shapiro_Statistic    0.622594\n",
      "    Shapiro_p                 0.0\n",
      "    Normal?                    No\n",
      "Name: A5, dtype: object\n"
     ]
    },
    {
     "data": {
      "image/png": "[encoded data removed]",
      "text/plain": [
       "<Figure size 640x480 with 6 Axes>"
      ]
     },
     "metadata": {},
     "output_type": "display_data"
    }
   ],
   "source": [
    "df.boxplot(column=['A1','A2','A3','A4','A5'], by='sp')\n",
    "groups = ['A1','A2','A3','A4','A5']\n",
    "\n",
    "for group in groups:\n",
    "  normality_results = df.groupby('sp', observed=True)[group].apply(shapiro_test)\n",
    "  print(normality_results)"
   ]
  },
  {
   "cell_type": "code",
   "execution_count": 180,
   "id": "df785dcd",
   "metadata": {},
   "outputs": [
    {
     "name": "stdout",
     "output_type": "stream",
     "text": [
      "   statistic    pvalue\n",
      "0   0.005148  0.942802\n",
      "1   0.175280  0.675462\n",
      "2   0.266338  0.605799\n",
      "3   1.459864  0.226952\n",
      "4   2.915062  0.087756\n"
     ]
    }
   ],
   "source": [
    "results = []\n",
    "\n",
    "for group in groups:\n",
    "  result = df.groupby('sp', observed=True)[group].apply(list).pipe(lambda g: kruskal(*g))\n",
    "  results.append(result)\n",
    "  \n",
    "print(pd.DataFrame(results))"
   ]
  },
  {
   "cell_type": "markdown",
   "id": "d488d2c1",
   "metadata": {},
   "source": [
    "The result for grouping by gender, there doesn't seem to be a statistically meningful difference between the genders."
   ]
  },
  {
   "cell_type": "code",
   "execution_count": 181,
   "id": "4c411e58",
   "metadata": {},
   "outputs": [
    {
     "name": "stdout",
     "output_type": "stream",
     "text": [
      "ASALUE                   \n",
      "1.0     Shapiro_Statistic    0.596212\n",
      "        Shapiro_p                 0.0\n",
      "        Normal?                    No\n",
      "2.0     Shapiro_Statistic    0.693805\n",
      "        Shapiro_p                 0.0\n",
      "        Normal?                    No\n",
      "3.0     Shapiro_Statistic    0.653758\n",
      "        Shapiro_p                 0.0\n",
      "        Normal?                    No\n",
      "Name: A1, dtype: object\n",
      "ASALUE                   \n",
      "1.0     Shapiro_Statistic    0.982659\n",
      "        Shapiro_p            0.000186\n",
      "        Normal?                    No\n",
      "2.0     Shapiro_Statistic    0.975405\n",
      "        Shapiro_p            0.055841\n",
      "        Normal?                   Yes\n",
      "3.0     Shapiro_Statistic    0.963242\n",
      "        Shapiro_p            0.001523\n",
      "        Normal?                    No\n",
      "Name: A2, dtype: object\n",
      "ASALUE                   \n",
      "1.0     Shapiro_Statistic    0.749549\n",
      "        Shapiro_p                 0.0\n",
      "        Normal?                    No\n",
      "2.0     Shapiro_Statistic    0.742914\n",
      "        Shapiro_p                 0.0\n",
      "        Normal?                    No\n",
      "3.0     Shapiro_Statistic    0.822343\n",
      "        Shapiro_p                 0.0\n",
      "        Normal?                    No\n",
      "Name: A3, dtype: object\n",
      "ASALUE                   \n",
      "1.0     Shapiro_Statistic    0.758845\n",
      "        Shapiro_p                 0.0\n",
      "        Normal?                    No\n",
      "2.0     Shapiro_Statistic    0.711892\n",
      "        Shapiro_p                 0.0\n",
      "        Normal?                    No\n",
      "3.0     Shapiro_Statistic    0.770349\n",
      "        Shapiro_p                 0.0\n",
      "        Normal?                    No\n",
      "Name: A4, dtype: object\n",
      "ASALUE                   \n",
      "1.0     Shapiro_Statistic    0.068983\n",
      "        Shapiro_p                 0.0\n",
      "        Normal?                    No\n",
      "2.0     Shapiro_Statistic    0.631094\n",
      "        Shapiro_p                 0.0\n",
      "        Normal?                    No\n",
      "3.0     Shapiro_Statistic    0.703965\n",
      "        Shapiro_p                 0.0\n",
      "        Normal?                    No\n",
      "Name: A5, dtype: object\n"
     ]
    },
    {
     "data": {
      "image/png": "[encoded data removed]",
      "text/plain": [
       "<Figure size 640x480 with 6 Axes>"
      ]
     },
     "metadata": {},
     "output_type": "display_data"
    }
   ],
   "source": [
    "df.boxplot(column=groups, by='ASALUE')\n",
    "\n",
    "for group in groups:\n",
    "  normality_results = df.groupby('ASALUE', observed=True)[group].apply(shapiro_test)\n",
    "  print(normality_results)"
   ]
  },
  {
   "cell_type": "code",
   "execution_count": 182,
   "id": "e3a4ea1f",
   "metadata": {},
   "outputs": [
    {
     "name": "stdout",
     "output_type": "stream",
     "text": [
      "   statistic    pvalue\n",
      "0   3.137442  0.208311\n",
      "1   4.078625  0.130118\n",
      "2  15.617102  0.000406\n",
      "3   0.466166  0.792088\n",
      "4   4.628177  0.098856\n"
     ]
    }
   ],
   "source": [
    "results = []\n",
    "groups = ['A1','A2','A3','A4','A5']\n",
    "\n",
    "for group in groups:\n",
    "  result = df.groupby('ASALUE', observed=True)[group].apply(list).pipe(lambda g: kruskal(*g))\n",
    "  results.append(result)\n",
    "  \n",
    "results = pd.DataFrame(results)\n",
    "print(results)"
   ]
  },
  {
   "cell_type": "code",
   "execution_count": 183,
   "id": "954afc17",
   "metadata": {},
   "outputs": [
    {
     "name": "stdout",
     "output_type": "stream",
     "text": [
      "Original p-values: 0    0.208311\n",
      "1    0.130118\n",
      "2    0.000406\n",
      "3    0.792088\n",
      "4    0.098856\n",
      "Name: pvalue, dtype: float64\n",
      "Corrected p-values: [1.         0.65059059 0.00203123 1.         0.49428116]\n",
      "Reject H₀ (significant?): [False False  True False False]\n"
     ]
    }
   ],
   "source": [
    "reject, pvals_corrected, _, _=multipletests(results['pvalue'], alpha=0.05, method='bonferroni')\n",
    "print(\"Original p-values:\", results['pvalue'])\n",
    "print(\"Corrected p-values:\", pvals_corrected)\n",
    "print(\"Reject H₀ (significant?):\", reject)"
   ]
  },
  {
   "cell_type": "markdown",
   "id": "86b6b4b2",
   "metadata": {},
   "source": [
    "There seems to be a correlation between where you live and the ammount of reading you do."
   ]
  },
  {
   "cell_type": "code",
   "execution_count": 184,
   "id": "5fbf816f",
   "metadata": {},
   "outputs": [
    {
     "name": "stdout",
     "output_type": "stream",
     "text": [
      "pvknro                   \n",
      "1       Shapiro_Statistic    0.640937\n",
      "        Shapiro_p                 0.0\n",
      "        Normal?                    No\n",
      "2       Shapiro_Statistic     0.61282\n",
      "        Shapiro_p                 0.0\n",
      "        Normal?                    No\n",
      "Name: A1, dtype: object\n",
      "pvknro                   \n",
      "1       Shapiro_Statistic    0.973624\n",
      "        Shapiro_p            0.000022\n",
      "        Normal?                    No\n",
      "2       Shapiro_Statistic    0.985613\n",
      "        Shapiro_p            0.004566\n",
      "        Normal?                    No\n",
      "Name: A2, dtype: object\n",
      "pvknro                   \n",
      "1       Shapiro_Statistic    0.733053\n",
      "        Shapiro_p                 0.0\n",
      "        Normal?                    No\n",
      "2       Shapiro_Statistic    0.743163\n",
      "        Shapiro_p                 0.0\n",
      "        Normal?                    No\n",
      "Name: A3, dtype: object\n",
      "pvknro                   \n",
      "1       Shapiro_Statistic    0.729948\n",
      "        Shapiro_p                 0.0\n",
      "        Normal?                    No\n",
      "2       Shapiro_Statistic    0.770673\n",
      "        Shapiro_p                 0.0\n",
      "        Normal?                    No\n",
      "Name: A4, dtype: object\n",
      "pvknro                   \n",
      "1       Shapiro_Statistic    0.056166\n",
      "        Shapiro_p                 0.0\n",
      "        Normal?                    No\n",
      "2       Shapiro_Statistic    0.083601\n",
      "        Shapiro_p                 0.0\n",
      "        Normal?                    No\n",
      "Name: A5, dtype: object\n"
     ]
    },
    {
     "data": {
      "image/png": "[encoded data removed]",
      "text/plain": [
       "<Figure size 640x480 with 6 Axes>"
      ]
     },
     "metadata": {},
     "output_type": "display_data"
    }
   ],
   "source": [
    "df.boxplot(column=groups, by='pvknro')\n",
    "\n",
    "for group in groups:\n",
    "  normality_results = df.groupby('pvknro', observed=True)[group].apply(shapiro_test)\n",
    "  print(normality_results)"
   ]
  },
  {
   "cell_type": "code",
   "execution_count": 185,
   "id": "c5c7aac7",
   "metadata": {},
   "outputs": [
    {
     "name": "stdout",
     "output_type": "stream",
     "text": [
      "   statistic    pvalue\n",
      "0   0.502682  0.478324\n",
      "1   2.273186  0.131629\n",
      "2   5.432775  0.019762\n",
      "3   7.474073  0.006259\n",
      "4   0.018188  0.892721\n"
     ]
    }
   ],
   "source": [
    "results = []\n",
    "\n",
    "for group in groups:\n",
    "  result = df.groupby('pvknro', observed=True)[group].apply(list).pipe(lambda g: kruskal(*g))\n",
    "  results.append(result)\n",
    "\n",
    "results = pd.DataFrame(results)\n",
    "print(results)"
   ]
  },
  {
   "cell_type": "code",
   "execution_count": 186,
   "id": "39cab878",
   "metadata": {},
   "outputs": [
    {
     "name": "stdout",
     "output_type": "stream",
     "text": [
      "Original p-values: 0    0.478324\n",
      "1    0.131629\n",
      "2    0.019762\n",
      "3    0.006259\n",
      "4    0.892721\n",
      "Name: pvalue, dtype: float64\n",
      "Corrected p-values: [1.         0.65814546 0.09881127 0.03129689 1.        ]\n",
      "Reject H₀ (significant?): [False False False  True False]\n"
     ]
    }
   ],
   "source": [
    "reject, pvals_corrected, _, _=multipletests(results['pvalue'], alpha=0.05, method='bonferroni')\n",
    "print(\"Original p-values:\", results['pvalue'])\n",
    "print(\"Corrected p-values:\", pvals_corrected)\n",
    "print(\"Reject H₀ (significant?):\", reject)"
   ]
  },
  {
   "cell_type": "markdown",
   "id": "8eb9e738",
   "metadata": {},
   "source": [
    "There seems to be a correlation with the day of the week and the ammount of dining at a restaurant that you do."
   ]
  },
  {
   "cell_type": "code",
   "execution_count": 187,
   "id": "ba68fc28",
   "metadata": {},
   "outputs": [
    {
     "name": "stdout",
     "output_type": "stream",
     "text": [
      "IKAL1                   \n",
      "3      Shapiro_Statistic     0.67769\n",
      "       Shapiro_p            0.000097\n",
      "       Normal?                    No\n",
      "4      Shapiro_Statistic    0.698576\n",
      "       Shapiro_p                 0.0\n",
      "       Normal?                    No\n",
      "5      Shapiro_Statistic    0.727281\n",
      "       Shapiro_p                 0.0\n",
      "       Normal?                    No\n",
      "6      Shapiro_Statistic     0.77446\n",
      "       Shapiro_p                 0.0\n",
      "       Normal?                    No\n",
      "7      Shapiro_Statistic    0.483352\n",
      "       Shapiro_p                 0.0\n",
      "       Normal?                    No\n",
      "8      Shapiro_Statistic    0.260782\n",
      "       Shapiro_p                 0.0\n",
      "       Normal?                    No\n",
      "9      Shapiro_Statistic    0.211919\n",
      "       Shapiro_p                 0.0\n",
      "       Normal?                    No\n",
      "Name: A1, dtype: object\n",
      "IKAL1                   \n",
      "3      Shapiro_Statistic    0.929035\n",
      "       Shapiro_p            0.235347\n",
      "       Normal?                   Yes\n",
      "4      Shapiro_Statistic    0.985439\n",
      "       Shapiro_p            0.473978\n",
      "       Normal?                   Yes\n",
      "5      Shapiro_Statistic    0.992101\n",
      "       Shapiro_p            0.842022\n",
      "       Normal?                   Yes\n",
      "6      Shapiro_Statistic     0.95931\n",
      "       Shapiro_p            0.000364\n",
      "       Normal?                    No\n",
      "7      Shapiro_Statistic     0.99136\n",
      "       Shapiro_p            0.469699\n",
      "       Normal?                   Yes\n",
      "8      Shapiro_Statistic    0.896627\n",
      "       Shapiro_p            0.000041\n",
      "       Normal?                    No\n",
      "9      Shapiro_Statistic    0.973981\n",
      "       Shapiro_p            0.414707\n",
      "       Normal?                   Yes\n",
      "Name: A2, dtype: object\n",
      "IKAL1                   \n",
      "3      Shapiro_Statistic    0.683527\n",
      "       Shapiro_p            0.000112\n",
      "       Normal?                    No\n",
      "4      Shapiro_Statistic    0.558693\n",
      "       Shapiro_p                 0.0\n",
      "       Normal?                    No\n",
      "5      Shapiro_Statistic    0.735027\n",
      "       Shapiro_p                 0.0\n",
      "       Normal?                    No\n",
      "6      Shapiro_Statistic     0.68108\n",
      "       Shapiro_p                 0.0\n",
      "       Normal?                    No\n",
      "7      Shapiro_Statistic    0.796207\n",
      "       Shapiro_p                 0.0\n",
      "       Normal?                    No\n",
      "8      Shapiro_Statistic    0.881492\n",
      "       Shapiro_p            0.000012\n",
      "       Normal?                    No\n",
      "9      Shapiro_Statistic    0.805409\n",
      "       Shapiro_p            0.000004\n",
      "       Normal?                    No\n",
      "Name: A3, dtype: object\n",
      "IKAL1                   \n",
      "3      Shapiro_Statistic    0.810101\n",
      "       Shapiro_p            0.003721\n",
      "       Normal?                    No\n",
      "4      Shapiro_Statistic    0.794682\n",
      "       Shapiro_p                 0.0\n",
      "       Normal?                    No\n",
      "5      Shapiro_Statistic     0.80438\n",
      "       Shapiro_p                 0.0\n",
      "       Normal?                    No\n",
      "6      Shapiro_Statistic    0.732861\n",
      "       Shapiro_p                 0.0\n",
      "       Normal?                    No\n",
      "7      Shapiro_Statistic    0.744684\n",
      "       Shapiro_p                 0.0\n",
      "       Normal?                    No\n",
      "8      Shapiro_Statistic    0.683434\n",
      "       Shapiro_p                 0.0\n",
      "       Normal?                    No\n",
      "9      Shapiro_Statistic    0.677231\n",
      "       Shapiro_p                 0.0\n",
      "       Normal?                    No\n",
      "Name: A4, dtype: object\n",
      "IKAL1                   \n",
      "3      Shapiro_Statistic         1.0\n",
      "       Shapiro_p                 1.0\n",
      "       Normal?                   Yes\n",
      "4      Shapiro_Statistic    0.573673\n",
      "       Shapiro_p                 0.0\n",
      "       Normal?                    No\n",
      "5      Shapiro_Statistic    0.539593\n",
      "       Shapiro_p                 0.0\n",
      "       Normal?                    No\n",
      "6      Shapiro_Statistic    0.689407\n",
      "       Shapiro_p                 0.0\n",
      "       Normal?                    No\n",
      "7      Shapiro_Statistic    0.656808\n",
      "       Shapiro_p                 0.0\n",
      "       Normal?                    No\n",
      "8      Shapiro_Statistic    0.635804\n",
      "       Shapiro_p                 0.0\n",
      "       Normal?                    No\n",
      "9      Shapiro_Statistic    0.232617\n",
      "       Shapiro_p                 0.0\n",
      "       Normal?                    No\n",
      "Name: A5, dtype: object\n"
     ]
    },
    {
     "name": "stderr",
     "output_type": "stream",
     "text": [
      "/usr/lib/python3/dist-packages/scipy/stats/_morestats.py:1879: UserWarning: Input data for shapiro has range zero. The results may not be accurate.\n",
      "  warnings.warn(\"Input data for shapiro has range zero. The results \"\n"
     ]
    },
    {
     "data": {
      "image/png": "[encoded data removed]",
      "text/plain": [
       "<Figure size 640x480 with 6 Axes>"
      ]
     },
     "metadata": {},
     "output_type": "display_data"
    }
   ],
   "source": [
    "df.boxplot(column=groups, by='IKAL1')\n",
    "\n",
    "for group in groups:\n",
    "  normality_results = df.groupby('IKAL1', observed=True)[group].apply(shapiro_test)\n",
    "  print(normality_results)"
   ]
  },
  {
   "cell_type": "code",
   "execution_count": 188,
   "id": "0ddf7723",
   "metadata": {},
   "outputs": [
    {
     "name": "stdout",
     "output_type": "stream",
     "text": [
      "   statistic        pvalue\n",
      "0  78.073877  8.925562e-15\n",
      "1  13.277149  3.883994e-02\n",
      "2  87.436993  1.031478e-16\n",
      "3   6.016452  4.213496e-01\n",
      "4  42.297831  1.605839e-07\n"
     ]
    }
   ],
   "source": [
    "results = []\n",
    "\n",
    "for group in groups:\n",
    "  result = df.groupby('IKAL1', observed=True)[group].apply(list).pipe(lambda g: kruskal(*g))\n",
    "  results.append(result)\n",
    "\n",
    "results = pd.DataFrame(results)\n",
    "print(results)"
   ]
  },
  {
   "cell_type": "code",
   "execution_count": 189,
   "id": "c24b063a",
   "metadata": {},
   "outputs": [
    {
     "name": "stdout",
     "output_type": "stream",
     "text": [
      "Original p-values: 0    8.925562e-15\n",
      "1    3.883994e-02\n",
      "2    1.031478e-16\n",
      "3    4.213496e-01\n",
      "4    1.605839e-07\n",
      "Name: pvalue, dtype: float64\n",
      "Corrected p-values: [4.46278089e-14 1.94199692e-01 5.15738794e-16 1.00000000e+00\n",
      " 8.02919370e-07]\n",
      "Reject H₀ (significant?): [ True False  True False  True]\n"
     ]
    }
   ],
   "source": [
    "reject, pvals_corrected, _, _=multipletests(results['pvalue'], alpha=0.05, method='bonferroni')\n",
    "print(\"Original p-values:\", results['pvalue'])\n",
    "print(\"Corrected p-values:\", pvals_corrected)\n",
    "print(\"Reject H₀ (significant?):\", reject)"
   ]
  },
  {
   "cell_type": "markdown",
   "id": "88885d43",
   "metadata": {},
   "source": [
    "There seems to be a correlation between age and the following activities: working, reading and visiting a library."
   ]
  }
 ],
 "metadata": {
  "kernelspec": {
   "display_name": "Python 3",
   "language": "python",
   "name": "python3"
  },
  "language_info": {
   "codemirror_mode": {
    "name": "ipython",
    "version": 3
   },
   "file_extension": ".py",
   "mimetype": "text/x-python",
   "name": "python",
   "nbconvert_exporter": "python",
   "pygments_lexer": "ipython3",
   "version": "3.12.3"
  }
 },
 "nbformat": 4,
 "nbformat_minor": 5
}
